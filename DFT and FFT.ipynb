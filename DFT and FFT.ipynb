{
 "cells": [
  {
   "cell_type": "markdown",
   "id": "f1277a1c",
   "metadata": {},
   "source": [
    "# <center> Discrete Fourier Transform and Fast Fourier Transform"
   ]
  },
  {
   "cell_type": "code",
   "execution_count": 2,
   "id": "766a99ea",
   "metadata": {},
   "outputs": [],
   "source": [
    "import numpy as np"
   ]
  },
  {
   "cell_type": "markdown",
   "id": "a90a4602",
   "metadata": {},
   "source": [
    "### Create and Verify our Discrete Fourier Transform Function"
   ]
  },
  {
   "cell_type": "markdown",
   "id": "4ebc3dcd",
   "metadata": {},
   "source": [
    "The Discrete Fourier Transform is a mathematical operation that translates a signal from its configuration space to frequency space. It is useful for decomposing a signal consisting of multiple pure frequencies and for denoising that signal to determine what those pure frequencies are."
   ]
  },
  {
   "cell_type": "markdown",
   "id": "a08cd793",
   "metadata": {},
   "source": [
    "$$\n",
    "X_k =\\sum \\limits _{n=0} ^{N-1} x_n * e^{-2i \\pi k n /N}\n",
    "$$"
   ]
  },
  {
   "cell_type": "markdown",
   "id": "d4611528",
   "metadata": {},
   "source": [
    "- N = number of samples\n",
    "- n = current sample\n",
    "- k = current frequency\n",
    "- $ x_n $ = the sine value at the current sample n\n",
    "- $ X_k $ = the discrete fourier transform"
   ]
  },
  {
   "cell_type": "code",
   "execution_count": 44,
   "id": "42266e3a",
   "metadata": {},
   "outputs": [],
   "source": [
    "def DFT(x):\n",
    "    x = np.asarray(x, dtype=float) # convert to numpy array\n",
    "    N = len(x) # get the size of our array\n",
    "    n = np.arange(N) # n goes from 0 to N-1\n",
    "    k = n.reshape((N, 1)) # shape into array\n",
    "    e = np.exp(-2j * np.pi * k * n / N) # e^(-2i * pi * k * n/ N)\n",
    "    X = np.dot(e, x) # dot product\n",
    "    return X"
   ]
  },
  {
   "cell_type": "code",
   "execution_count": 45,
   "id": "472b48cb",
   "metadata": {},
   "outputs": [
    {
     "data": {
      "text/plain": [
       "array([512.57377769 +0.j        ,  -1.89537343 +8.67011598j,\n",
       "        -1.75519176 -5.80395222j, ...,  -4.10693644+15.55178092j,\n",
       "        -1.75519176 +5.80395222j,  -1.89537343 -8.67011598j])"
      ]
     },
     "execution_count": 45,
     "metadata": {},
     "output_type": "execute_result"
    }
   ],
   "source": [
    "x = np.random.random(1024) # create a random 1D array\n",
    "np.fft.fft(x) # apply numpy's fourier transform function"
   ]
  },
  {
   "cell_type": "code",
   "execution_count": 46,
   "id": "a7d8dc69",
   "metadata": {},
   "outputs": [
    {
     "data": {
      "text/plain": [
       "array([512.57377769 +0.j        ,  -1.89537343 +8.67011598j,\n",
       "        -1.75519176 -5.80395222j, ...,  -4.10693644+15.55178092j,\n",
       "        -1.75519176 +5.80395222j,  -1.89537343 -8.67011598j])"
      ]
     },
     "execution_count": 46,
     "metadata": {},
     "output_type": "execute_result"
    }
   ],
   "source": [
    "DFT(x) # apply our fourier transform function"
   ]
  },
  {
   "cell_type": "code",
   "execution_count": 47,
   "id": "e88909ed",
   "metadata": {},
   "outputs": [
    {
     "data": {
      "text/plain": [
       "True"
      ]
     },
     "execution_count": 47,
     "metadata": {},
     "output_type": "execute_result"
    }
   ],
   "source": [
    "np.allclose(DFT(x), np.fft.fft(x)) # check that the outputs are in fact the same"
   ]
  },
  {
   "cell_type": "code",
   "execution_count": 48,
   "id": "2dc1fbf0",
   "metadata": {},
   "outputs": [
    {
     "name": "stdout",
     "output_type": "stream",
     "text": [
      "48.2 ms ± 2.21 ms per loop (mean ± std. dev. of 7 runs, 10 loops each)\n",
      "20.9 µs ± 1.38 µs per loop (mean ± std. dev. of 7 runs, 10,000 loops each)\n"
     ]
    }
   ],
   "source": [
    "# compare the time it takes for each to run\n",
    "%timeit DFT(x)\n",
    "%timeit np.fft.fft(x)"
   ]
  },
  {
   "cell_type": "markdown",
   "id": "90503998",
   "metadata": {},
   "source": [
    "### Create and Verify our Fast Fourier Transform\n",
    "DFT can be quite slow so we can use the FFT, which exploits the symmetries of our problem, to compute the transform much more quickly."
   ]
  },
  {
   "cell_type": "markdown",
   "id": "93a417c0",
   "metadata": {},
   "source": [
    "The Discrete Fourier Transform has a symmetry property, such that $ X_N+k = X_k $ which then extends to $ X_N*i+k = X_k $.  \n",
    "<em> Note: $ e^{-2i \\pi (N+k) n /N} = 1 $\n",
    "$$\n",
    "X_N+k = \\sum \\limits _{n=0} ^{N-1} x_n * e^{-2i \\pi (N+k) n /N}\n",
    "$$\n",
    "$$\n",
    "= \\sum \\limits _{n=0} ^{N-1} x_n * e^{-2i \\pi N n /N} * e^{-2i \\pi k n /N}\n",
    "= \\sum \\limits _{n=0} ^{N-1} x_n * e^{-2i \\pi n} * e^{-2i \\pi k n /N}\n",
    "$$\n",
    "$$\n",
    "= \\sum \\limits _{n=0} ^{N-1} x_n * e^{-2i \\pi k n /N} = X_k\n",
    "$$"
   ]
  },
  {
   "cell_type": "markdown",
   "id": "5302ec22",
   "metadata": {},
   "source": [
    "According to the Cooley-Tukey algorithm, we can split the DFT into two smaller parts, namely, the odds and the evens.\n",
    "$$\n",
    "X_k =\\sum \\limits _{n=0} ^{N-1} x_n * e^{-2i \\pi k n /N}\n",
    "$$\n",
    "$$\n",
    "=\\sum \\limits _{m=0} ^{N/2 -1} x_{2m} * e^{-2i \\pi k (2m) /N} + \\sum \\limits _{m=0} ^{N/2 -1} x_{2m+1} * e^{-2i \\pi k (2m+1) /N}\n",
    "$$\n",
    "$$\n",
    "=\\sum \\limits _{m=0} ^{N/2 -1} x_{2m} * e^{-2i \\pi k m /(N/2)} + e^{-2i \\pi k /N} + \\sum \\limits _{m=0} ^{N/2 -1} x_{2m+1} * e^{-2i \\pi k (2m+1) /N}\n",
    "$$\n",
    "\n",
    "The smaller terms have half the size of our original dataset (N/2) and we can continue to chop them into two, creating smaller and smaller groups. Then, due to our symmetry property, within these two split parts we know that we only need to calculate half of the fields in each term. \n",
    "So long as N is a power of 2, the maximum number of times you can split into two equal halves is given by p = log(N).\n",
    "This speeds up the fourier transform from $ O(N^{2}) $ to $ O(N*\\log(N)) $. The N comes from the actual Fourier transform calculations and the log(N) is the number of times we split our dataset, thus how many times we need to perform N calculations.\n",
    "The FFT algorithm is significantly faster than the direct implementation. However, it still lags behind the numpy implementation by quite a bit. One reason for this is the fact that the numpy implementation uses matrix operations to calculate the Fourier Transforms simultaneously."
   ]
  },
  {
   "cell_type": "code",
   "execution_count": 11,
   "id": "e218278e",
   "metadata": {},
   "outputs": [],
   "source": [
    "def FFT(x):\n",
    "    \"\"\" A recursive implementation of the 1D Cooley-Tukey FFT.\n",
    "    Requires input with a length that is a power of 2.  \"\"\"\n",
    "    x = np.asarray(x, dtype=float) #make into an array\n",
    "    N = len(x) #get length of our data\n",
    "    \n",
    "    if N == 1: # no longer a power of 2\n",
    "        return x\n",
    "    else:\n",
    "        X_even = FFT(x[::2]) #recursively call FFT on every other element starting at 0 (so the evens)\n",
    "        X_odd = FFT(x[1::2]) #recursively call FFT on every other element starting at 1 (so the odds)\n",
    "        factor = np.exp(-2j * np.pi * np.arange(N) / N) #create an array of our multiplying factor\n",
    "        #combine two halves back into a full array\n",
    "        #the DFT used the dot product between full x array and the multiplier (aka sum of product of corresponding components)\n",
    "        #here we do the equivalent and get the correct multiplier from our array for it\n",
    "        X = np.concatenate([X_even + factor[:int(N/2)] * X_odd, X_even + factor[int(N/2):] * X_odd])\n",
    "        return X"
   ]
  },
  {
   "cell_type": "code",
   "execution_count": 50,
   "id": "eff3cd26",
   "metadata": {},
   "outputs": [
    {
     "data": {
      "text/plain": [
       "True"
      ]
     },
     "execution_count": 50,
     "metadata": {},
     "output_type": "execute_result"
    }
   ],
   "source": [
    "x = np.random.random(1024)\n",
    "np.allclose(FFT(x), np.fft.fft(x))"
   ]
  },
  {
   "cell_type": "code",
   "execution_count": 51,
   "id": "661fc56c",
   "metadata": {},
   "outputs": [
    {
     "name": "stdout",
     "output_type": "stream",
     "text": [
      "53.1 ms ± 6.51 ms per loop (mean ± std. dev. of 7 runs, 10 loops each)\n",
      "21.5 ms ± 3.25 ms per loop (mean ± std. dev. of 7 runs, 10 loops each)\n",
      "21 µs ± 1.3 µs per loop (mean ± std. dev. of 7 runs, 10,000 loops each)\n"
     ]
    }
   ],
   "source": [
    "%timeit DFT(x)\n",
    "%timeit FFT(x)\n",
    "%timeit np.fft.fft(x)"
   ]
  },
  {
   "cell_type": "markdown",
   "id": "555b6be6",
   "metadata": {},
   "source": [
    "### FFT speedups\n",
    "There are other FFT algorithms, such as the prime-factor FFT algorithm and there is also the opportunity to use parallel processing for further speedup."
   ]
  }
 ],
 "metadata": {
  "kernelspec": {
   "display_name": "Python 3 (ipykernel)",
   "language": "python",
   "name": "python3"
  },
  "language_info": {
   "codemirror_mode": {
    "name": "ipython",
    "version": 3
   },
   "file_extension": ".py",
   "mimetype": "text/x-python",
   "name": "python",
   "nbconvert_exporter": "python",
   "pygments_lexer": "ipython3",
   "version": "3.8.9"
  }
 },
 "nbformat": 4,
 "nbformat_minor": 5
}
